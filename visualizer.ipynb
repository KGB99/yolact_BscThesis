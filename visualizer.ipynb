{
 "cells": [
  {
   "cell_type": "code",
   "execution_count": 10,
   "metadata": {},
   "outputs": [],
   "source": [
    "import os \n",
    "import pandas as pd\n",
    "import numpy\n",
    "import matplotlib.pyplot as plt\n",
    "import json"
   ]
  },
  {
   "cell_type": "code",
   "execution_count": 11,
   "metadata": {},
   "outputs": [],
   "source": [
    "## SELECT SESSION FOR VISUALIZATION\n",
    "session = 38"
   ]
  },
  {
   "cell_type": "code",
   "execution_count": 12,
   "metadata": {},
   "outputs": [],
   "source": [
    "f = open(\"./logs/medical_ssd_resnet50.log\")\n",
    "lines = f.readlines()\n",
    "f.close()"
   ]
  },
  {
   "cell_type": "code",
   "execution_count": 13,
   "metadata": {},
   "outputs": [
    {
     "name": "stdout",
     "output_type": "stream",
     "text": [
      "}\n",
      " is on line: 15067\n",
      "77}\n",
      " is on line: 22057\n",
      "62}\n",
      " is on line: 24536\n",
      "8805}\n",
      " is on line: 24601\n",
      "802}\n",
      " is on line: 24640\n",
      "4}\n",
      " is on line: 24646\n",
      "73}\n",
      " is on line: 24910\n",
      "1}\n",
      " is on line: 25218\n",
      "8}\n",
      " is on line: 25566\n",
      "14}\n",
      " is on line: 25596\n",
      "\n",
      " is on line: 25735\n",
      "{\"type\": \"train\", \"session\": 32, \"data\": {\"loss\": {\"B\": 1.9801, \"M\": 1.64212, \"C\": 1.67871, \"S\": 0.04905, \"T\": 5.34999}, \"epoch\": 0, \"iter\": 466, \"lr\": 0.0009388, \"elapsed\": 0.3775656223297119}, \"time\": 1700349475.78624{\"type\": \"train\", \"session\": 30, \"data\": {\"loss\": {\"B\": 1.85592, \"M\": 1.13194, \"C\": 1.72716, \"S\": 0.0407, \"T\": 4.75572}, \"epoch\": 0, \"iter\": 932, \"lr\": 0.001, \"elapsed\": 0.356581449508667}, \"time\": 1700349475.8054795}\n",
      " is on line: 25812\n",
      "\n",
      " is on line: 26020\n",
      "\n",
      " is on line: 26274\n",
      "4}\n",
      " is on line: 26371\n",
      "\n",
      " is on line: 26464\n",
      "}\n",
      " is on line: 26494\n",
      "5}\n",
      " is on line: 26633\n",
      "}\n",
      " is on line: 26677\n",
      "\n",
      " is on line: 26944\n",
      "}\n",
      " is on line: 27336\n",
      "\n",
      " is on line: 27380\n",
      "}\n",
      " is on line: 27612\n",
      "\n",
      " is on line: 27622\n",
      "195}\n",
      " is on line: 27900\n",
      "\n",
      " is on line: 27987\n",
      "}\n",
      " is on line: 28295\n",
      "\n",
      " is on line: 28321\n",
      "4}\n",
      " is on line: 28465\n",
      "\n",
      " is on line: 28684\n",
      "\n",
      " is on line: 29193\n",
      "\n",
      " is on line: 29291\n",
      "\n",
      " is on line: 29319\n",
      "\n",
      " is on line: 29799\n",
      "}\n",
      " is on line: 29858\n",
      "}\n",
      " is on line: 30349\n",
      "\n",
      " is on line: 30492\n",
      "}\n",
      " is on line: 30568\n",
      "46}\n",
      " is on line: 30733\n",
      "\n",
      " is on line: 30838\n",
      "\n",
      " is on line: 30950\n",
      "\n",
      " is on line: 31222\n",
      "\n",
      " is on line: 31448\n",
      "}\n",
      " is on line: 31779\n",
      "}\n",
      " is on line: 31825\n",
      "\n",
      " is on line: 32396\n",
      "}\n",
      " is on line: 32451\n",
      "\n",
      " is on line: 32690\n",
      "}\n",
      " is on line: 32826\n",
      "\n",
      " is on line: 32842\n",
      "\n",
      " is on line: 32859\n",
      "933}\n",
      " is on line: 32915\n",
      "\n",
      " is on line: 33028\n",
      "}\n",
      " is on line: 33070\n",
      "\n",
      " is on line: 33106\n",
      "5}\n",
      " is on line: 33340\n",
      "\n",
      " is on line: 33588\n",
      "}\n",
      " is on line: 33950\n",
      "\n",
      " is on line: 34013\n",
      "\n",
      " is on line: 34057\n",
      "\n",
      " is on line: 34249\n",
      "\n",
      " is on line: 34319\n",
      "\n",
      " is on line: 34339\n",
      "}\n",
      " is on line: 34370\n",
      "\n",
      " is on line: 34410\n",
      "}\n",
      " is on line: 34775\n",
      "}\n",
      " is on line: 34861\n",
      "5}\n",
      " is on line: 34953\n",
      "\n",
      " is on line: 35157\n",
      "\n",
      " is on line: 35238\n",
      "\n",
      " is on line: 35274\n",
      "\n",
      " is on line: 35719\n",
      "\n",
      " is on line: 36044\n",
      "}\n",
      " is on line: 36519\n",
      "\n",
      " is on line: 36626\n",
      "}\n",
      " is on line: 36890\n",
      "\n",
      " is on line: 37097\n",
      "8}\n",
      " is on line: 37276\n",
      "\n",
      " is on line: 37354\n",
      "}\n",
      " is on line: 37487\n",
      "4}\n",
      " is on line: 37497\n",
      "}\n",
      " is on line: 37737\n"
     ]
    }
   ],
   "source": [
    "temp_log_dicts=[]\n",
    "for i,line in enumerate(lines):\n",
    "    try:\n",
    "        curr_dict = json.loads(line)\n",
    "        temp_log_dicts.append(curr_dict)\n",
    "    except:\n",
    "        print(line + ' is on line: ' + str(i))"
   ]
  },
  {
   "cell_type": "code",
   "execution_count": 14,
   "metadata": {},
   "outputs": [
    {
     "name": "stdout",
     "output_type": "stream",
     "text": [
      "50687\n"
     ]
    }
   ],
   "source": [
    "#check that log lines are inside\n",
    "print(len(temp_log_dicts))"
   ]
  },
  {
   "cell_type": "code",
   "execution_count": 15,
   "metadata": {},
   "outputs": [],
   "source": [
    "#create pandas dataframes from log file\n",
    "log_dicts = []\n",
    "for i,log_dict in enumerate(temp_log_dicts):\n",
    "    if log_dict['session'] == session:\n",
    "        log_dicts.append(log_dict)\n"
   ]
  },
  {
   "cell_type": "code",
   "execution_count": 16,
   "metadata": {},
   "outputs": [
    {
     "name": "stdout",
     "output_type": "stream",
     "text": [
      "4978\n",
      "{'type': 'train', 'session': 38, 'data': {'loss': {'B': 4.38862, 'M': 4.57785, 'C': 14.55171, 'S': 1.15285, 'T': 24.67102}, 'epoch': 0, 'iter': 0, 'lr': 0.0001, 'elapsed': 8.003800392150879}, 'time': 1700484119.4113293}\n"
     ]
    }
   ],
   "source": [
    "print(len(log_dicts))\n",
    "print(log_dicts[1])"
   ]
  },
  {
   "cell_type": "code",
   "execution_count": 28,
   "metadata": {},
   "outputs": [
    {
     "name": "stdout",
     "output_type": "stream",
     "text": [
      "     epoch  iter  total_loss  bbox_loss  mask_loss\n",
      "0        0     0    24.67102    4.38862    4.57785\n",
      "1        0     1    24.70968    6.31753    4.79572\n",
      "2        0     2    21.18602    5.60063    4.83710\n",
      "3        0     3    18.78391    5.13666    4.09958\n",
      "4        0     4    19.48969    6.22814    4.20514\n",
      "..     ...   ...         ...        ...        ...\n",
      "331      0   331     7.78534    2.94409    2.32650\n",
      "332      0   332     8.88962    3.61426    2.68819\n",
      "333      0   333     7.63377    2.74774    2.55968\n",
      "334      0   334     6.94533    3.02891    1.82943\n",
      "335      0   335     6.06822    2.17862    1.73273\n",
      "\n",
      "[336 rows x 5 columns]\n"
     ]
    }
   ],
   "source": [
    "# initialize dataframes and fill them, im sure theres a better way for this but whatever\n",
    "# Loss Key:\n",
    "        #  - B: Box Localization Loss\n",
    "        #  - C: Class Confidence Loss\n",
    "        #  - M: Mask Loss\n",
    "        #  - P: Prototype Loss\n",
    "        #  - D: Coefficient Diversity Loss\n",
    "        #  - E: Class Existence Loss\n",
    "        #  - S: Semantic Segmentation Loss\n",
    "train_dict = {}\n",
    "train_dict['epoch'] = []\n",
    "train_dict['iter'] = []\n",
    "train_dict['total_loss'] = []\n",
    "train_dict['bbox_loss'] = []\n",
    "train_dict['mask_loss'] = [] \n",
    "val_dict = {}\n",
    "val_dict['epoch'] = []\n",
    "val_dict['iter'] = []\n",
    "val_dict['total_loss'] = []\n",
    "val_dict['bbox_loss'] = []\n",
    "val_dict['mask_loss'] = []\n",
    "\n",
    "for log_dict in log_dicts:\n",
    "    if log_dict['type'] in [\"train\"]:\n",
    "        train_dict['epoch'].append(log_dict['data']['epoch'])\n",
    "        train_dict['iter'].append(log_dict['data']['iter'])\n",
    "        train_dict['total_loss'].append(log_dict['data']['loss']['T'])\n",
    "        train_dict['bbox_loss'].append(log_dict['data']['loss']['B'])\n",
    "        train_dict['mask_loss'].append(log_dict['data']['loss']['M'])\n",
    "    elif log_dict['type'] in ['val-loss']:\n",
    "        val_dict['epoch'].append(log_dict['data']['epoch'])\n",
    "        val_dict['iter'].append(log_dict['data']['iter'])\n",
    "        val_dict['total_loss'].append(log_dict['data']['val_loss']['T'])\n",
    "        val_dict['bbox_loss'].append(log_dict['data']['val_loss']['B'])\n",
    "        val_dict['mask_loss'].append(log_dict['data']['val_loss']['M'])\n",
    "\n",
    "train_pd = pd.DataFrame.from_dict(train_dict)\n",
    "val_pd = pd.DataFrame.from_dict(val_dict)\n",
    "print(train_pd)"
   ]
  },
  {
   "cell_type": "code",
   "execution_count": 29,
   "metadata": {},
   "outputs": [
    {
     "name": "stdout",
     "output_type": "stream",
     "text": [
      "      epoch  iter  total_loss  bbox_loss  mask_loss\n",
      "0         0     0    10.10623    4.65463    2.90715\n",
      "1         0     1    10.28789    4.49305    2.98654\n",
      "2         0     2    10.42003    4.62026    3.04599\n",
      "3         0     3    10.33919    4.40705    2.98631\n",
      "4         0     4     9.96381    4.07381    2.97247\n",
      "...     ...   ...         ...        ...        ...\n",
      "4636      0  1542    11.99840    3.29640    1.92187\n",
      "4637      0  1543    12.04620    3.12242    1.87357\n",
      "4638      0  1544    10.32751    1.48485    2.12266\n",
      "4639      0  1545    10.37148    1.32145    2.24443\n",
      "4640      0  1546    10.58192    1.58828    2.20522\n",
      "\n",
      "[4641 rows x 5 columns]\n"
     ]
    }
   ],
   "source": [
    "print(val_pd)"
   ]
  },
  {
   "cell_type": "code",
   "execution_count": 30,
   "metadata": {},
   "outputs": [
    {
     "name": "stdout",
     "output_type": "stream",
     "text": [
      "336\n",
      "336\n",
      "4641\n",
      "4641\n"
     ]
    }
   ],
   "source": [
    "loss_array = train_pd['total_loss'].to_numpy()\n",
    "iterations_array = train_pd['iter'].to_numpy()\n",
    "print(len(loss_array))\n",
    "print(len(iterations_array))\n",
    "val_loss_array = val_pd['total_loss'].to_numpy()\n",
    "val_iterations_array = val_pd['iter'].to_numpy()\n",
    "print(len(val_loss_array))\n",
    "print(len(val_iterations_array))"
   ]
  },
  {
   "cell_type": "code",
   "execution_count": 35,
   "metadata": {},
   "outputs": [
    {
     "data": {
      "image/png": "[encoded data removed]",
      "text/plain": [
       "<Figure size 640x480 with 1 Axes>"
      ]
     },
     "metadata": {},
     "output_type": "display_data"
    }
   ],
   "source": [
    "\n",
    "plt.plot(iterations_array, loss_array, linewidth=1, label='training loss')\n",
    "plt.plot(val_iterations_array, val_loss_array, linewidth=0.5, label='validation loss')\n",
    "plt.legend()\n",
    "plt.show()"
   ]
  },
  {
   "cell_type": "code",
   "execution_count": null,
   "metadata": {},
   "outputs": [],
   "source": []
  }
 ],
 "metadata": {
  "kernelspec": {
   "display_name": "Python 3",
   "language": "python",
   "name": "python3"
  },
  "language_info": {
   "codemirror_mode": {
    "name": "ipython",
    "version": 3
   },
   "file_extension": ".py",
   "mimetype": "text/x-python",
   "name": "python",
   "nbconvert_exporter": "python",
   "pygments_lexer": "ipython3",
   "version": "3.10.7"
  }
 },
 "nbformat": 4,
 "nbformat_minor": 2
}
