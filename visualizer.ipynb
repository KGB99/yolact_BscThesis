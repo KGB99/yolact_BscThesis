{
 "cells": [
  {
   "cell_type": "code",
   "execution_count": 2,
   "metadata": {},
   "outputs": [],
   "source": [
    "import os \n",
    "import pandas as pd\n",
    "import numpy\n",
    "import matplotlib.pyplot as plt\n",
    "import json"
   ]
  },
  {
   "cell_type": "code",
   "execution_count": 3,
   "metadata": {},
   "outputs": [],
   "source": [
    "## SELECT SESSION FOR VISUALIZATION\n",
    "session = 0"
   ]
  },
  {
   "cell_type": "code",
   "execution_count": 4,
   "metadata": {},
   "outputs": [],
   "source": [
    "f = open(\"./logs/medical_ssd_resnet50_pbr.log\")\n",
    "lines = f.readlines()\n",
    "f.close()"
   ]
  },
  {
   "cell_type": "code",
   "execution_count": 5,
   "metadata": {},
   "outputs": [],
   "source": [
    "temp_log_dicts=[]\n",
    "for i,line in enumerate(lines):\n",
    "    try:\n",
    "        curr_dict = json.loads(line)\n",
    "        temp_log_dicts.append(curr_dict)\n",
    "    except:\n",
    "        print(line + ' is on line: ' + str(i))"
   ]
  },
  {
   "cell_type": "code",
   "execution_count": 6,
   "metadata": {},
   "outputs": [
    {
     "name": "stdout",
     "output_type": "stream",
     "text": [
      "20011\n"
     ]
    }
   ],
   "source": [
    "#check that log lines are inside\n",
    "print(len(temp_log_dicts))"
   ]
  },
  {
   "cell_type": "code",
   "execution_count": 7,
   "metadata": {},
   "outputs": [],
   "source": [
    "#create pandas dataframes from log file\n",
    "log_dicts = []\n",
    "for i,log_dict in enumerate(temp_log_dicts):\n",
    "    if log_dict['session'] == session:\n",
    "        log_dicts.append(log_dict)\n"
   ]
  },
  {
   "cell_type": "code",
   "execution_count": 8,
   "metadata": {},
   "outputs": [
    {
     "name": "stdout",
     "output_type": "stream",
     "text": [
      "20011\n",
      "{'type': 'train', 'session': 0, 'data': {'loss': {'B': 4.42907, 'M': 4.82475, 'C': 19.40822, 'S': 2.59203, 'T': 31.25407}, 'epoch': 0, 'iter': 0, 'lr': 0.0001, 'elapsed': 8.814141988754272}, 'time': 1702343462.688293}\n"
     ]
    }
   ],
   "source": [
    "print(len(log_dicts))\n",
    "print(log_dicts[1])"
   ]
  },
  {
   "cell_type": "code",
   "execution_count": 9,
   "metadata": {},
   "outputs": [
    {
     "name": "stdout",
     "output_type": "stream",
     "text": [
      "       epoch   iter  total_loss  bbox_loss  mask_loss  time-elapsed\n",
      "0          0      0    31.25407    4.42907    4.82475      8.814142\n",
      "1          0      1    26.41232    5.37929    4.78399      0.452637\n",
      "2          0      2    24.44841    5.57617    5.79513      0.953519\n",
      "3          0      3    21.26235    5.35614    4.31302      0.383833\n",
      "4          0      4    20.57221    5.22918    4.77993      1.379518\n",
      "...      ...    ...         ...        ...        ...           ...\n",
      "19995      3  19995     3.74608    1.04818    0.65279      0.869375\n",
      "19996      3  19996     5.40314    1.75583    0.77838      1.418843\n",
      "19997      3  19997     5.04894    1.22332    0.82736      0.918538\n",
      "19998      3  19998     5.32197    1.70968    1.37368      0.826159\n",
      "19999      3  19999     4.03948    1.44512    0.64681      0.865942\n",
      "\n",
      "[20000 rows x 6 columns]\n"
     ]
    }
   ],
   "source": [
    "# initialize dataframes and fill them, im sure theres a better way for this but whatever\n",
    "# Loss Key:\n",
    "        #  - B: Box Localization Loss\n",
    "        #  - C: Class Confidence Loss\n",
    "        #  - M: Mask Loss\n",
    "        #  - P: Prototype Loss\n",
    "        #  - D: Coefficient Diversity Loss\n",
    "        #  - E: Class Existence Loss\n",
    "        #  - S: Semantic Segmentation Loss\n",
    "train_dict = {}\n",
    "train_dict['epoch'] = []\n",
    "train_dict['iter'] = []\n",
    "train_dict['total_loss'] = []\n",
    "train_dict['bbox_loss'] = []\n",
    "train_dict['mask_loss'] = [] \n",
    "train_dict['time-elapsed'] = []\n",
    "val_dict = {}\n",
    "val_dict['epoch'] = []\n",
    "val_dict['iter'] = []\n",
    "val_dict['total_loss'] = []\n",
    "val_dict['bbox_loss'] = []\n",
    "val_dict['mask_loss'] = []\n",
    "val_dict['time-elapsed'] = []\n",
    "\n",
    "for log_dict in log_dicts:\n",
    "    if log_dict['type'] in [\"train\"]:\n",
    "        train_dict['epoch'].append(log_dict['data']['epoch'])\n",
    "        train_dict['iter'].append(log_dict['data']['iter'])\n",
    "        train_dict['total_loss'].append(log_dict['data']['loss']['T'])\n",
    "        train_dict['bbox_loss'].append(log_dict['data']['loss']['B'])\n",
    "        train_dict['mask_loss'].append(log_dict['data']['loss']['M'])\n",
    "        train_dict['time-elapsed'].append(log_dict['data']['elapsed'])\n",
    "    elif log_dict['type'] in ['val-loss']:\n",
    "        val_dict['epoch'].append(log_dict['data']['epoch'])\n",
    "        val_dict['iter'].append(log_dict['data']['iter'])\n",
    "        val_dict['total_loss'].append(log_dict['data']['val_loss']['T'])\n",
    "        val_dict['bbox_loss'].append(log_dict['data']['val_loss']['B'])\n",
    "        val_dict['mask_loss'].append(log_dict['data']['val_loss']['M'])\n",
    "        val_dict['time-elapsed'].append(log_dict['data']['elapsed'])\n",
    "\n",
    "train_pd = pd.DataFrame.from_dict(train_dict)\n",
    "val_pd = pd.DataFrame.from_dict(val_dict)\n",
    "print(train_pd)"
   ]
  },
  {
   "cell_type": "code",
   "execution_count": 10,
   "metadata": {},
   "outputs": [
    {
     "name": "stdout",
     "output_type": "stream",
     "text": [
      "   epoch   iter  total_loss  bbox_loss  mask_loss  time-elapsed\n",
      "0      0   3000    6.636056   2.467216   1.524064    290.407968\n",
      "1      1   6000    5.845816   2.035106   1.308763    212.865316\n",
      "2      1   9000    5.523132   1.898375   1.192543    213.835721\n",
      "3      2  12000    5.307712   1.729661   1.196990    207.335894\n",
      "4      2  15000    5.127410   1.651977   1.160798    201.048767\n",
      "5      3  18000    4.883794   1.516754   1.064399    204.202341\n"
     ]
    }
   ],
   "source": [
    "print(val_pd)"
   ]
  },
  {
   "cell_type": "code",
   "execution_count": 11,
   "metadata": {},
   "outputs": [
    {
     "name": "stdout",
     "output_type": "stream",
     "text": [
      "20000\n",
      "20000\n",
      "6\n",
      "6\n"
     ]
    }
   ],
   "source": [
    "loss_array = train_pd['total_loss'].to_numpy()\n",
    "iterations_array = train_pd['iter'].to_numpy()\n",
    "print(len(loss_array))\n",
    "print(len(iterations_array))\n",
    "val_loss_array = val_pd['total_loss'].to_numpy()\n",
    "val_iterations_array = val_pd['iter'].to_numpy()\n",
    "print(len(val_loss_array))\n",
    "print(len(val_iterations_array))\n"
   ]
  },
  {
   "cell_type": "code",
   "execution_count": 12,
   "metadata": {},
   "outputs": [
    {
     "data": {
      "image/png": "[encoded data removed]",
      "text/plain": [
       "<Figure size 640x480 with 1 Axes>"
      ]
     },
     "metadata": {},
     "output_type": "display_data"
    }
   ],
   "source": [
    "\n",
    "plt.plot(iterations_array, loss_array, linewidth=0.3, label='training loss')\n",
    "plt.plot(val_iterations_array, val_loss_array, linewidth=2, label='validation loss')\n",
    "plt.legend()\n",
    "plt.show()"
   ]
  },
  {
   "cell_type": "code",
   "execution_count": 35,
   "metadata": {},
   "outputs": [
    {
     "name": "stdout",
     "output_type": "stream",
     "text": [
      "Training time: 281.21 min\n",
      "Validation time: 141.33 min\n"
     ]
    }
   ],
   "source": [
    "val_time = 0\n",
    "train_time = 0\n",
    "for time in val_dict['time-elapsed']:\n",
    "    val_time += time\n",
    "\n",
    "for time in train_dict['time-elapsed']:\n",
    "    train_time += time\n",
    "\n",
    "print('Training time: ' + str(round(train_time/60,2)) + ' min')\n",
    "print('Validation time: ' + str(round(val_time/60,2)) + ' min')\n"
   ]
  }
 ],
 "metadata": {
  "kernelspec": {
   "display_name": "Python 3",
   "language": "python",
   "name": "python3"
  },
  "language_info": {
   "codemirror_mode": {
    "name": "ipython",
    "version": 3
   },
   "file_extension": ".py",
   "mimetype": "text/x-python",
   "name": "python",
   "nbconvert_exporter": "python",
   "pygments_lexer": "ipython3",
   "version": "3.10.7"
  }
 },
 "nbformat": 4,
 "nbformat_minor": 2
}
