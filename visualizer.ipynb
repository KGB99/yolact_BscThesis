{
 "cells": [
  {
   "cell_type": "code",
   "execution_count": 14,
   "metadata": {},
   "outputs": [],
   "source": [
    "import os \n",
    "import pandas as pd\n",
    "import numpy\n",
    "import matplotlib.pyplot as plt\n",
    "import json"
   ]
  },
  {
   "cell_type": "code",
   "execution_count": 10,
   "metadata": {},
   "outputs": [],
   "source": [
    "f = open(\"./logs/medical_ssd_resnet50.log\")\n",
    "lines = f.readlines()\n",
    "f.close()"
   ]
  },
  {
   "cell_type": "code",
   "execution_count": 21,
   "metadata": {},
   "outputs": [
    {
     "name": "stdout",
     "output_type": "stream",
     "text": [
      "77}\n",
      " is on line: 22056\n",
      "62}\n",
      " is on line: 24535\n",
      "8805}\n",
      " is on line: 24600\n",
      "802}\n",
      " is on line: 24639\n",
      "4}\n",
      " is on line: 24645\n",
      "73}\n",
      " is on line: 24909\n",
      "1}\n",
      " is on line: 25217\n",
      "8}\n",
      " is on line: 25565\n",
      "14}\n",
      " is on line: 25595\n",
      "\n",
      " is on line: 25734\n",
      "{\"type\": \"train\", \"session\": 32, \"data\": {\"loss\": {\"B\": 1.9801, \"M\": 1.64212, \"C\": 1.67871, \"S\": 0.04905, \"T\": 5.34999}, \"epoch\": 0, \"iter\": 466, \"lr\": 0.0009388, \"elapsed\": 0.3775656223297119}, \"time\": 1700349475.78624{\"type\": \"train\", \"session\": 30, \"data\": {\"loss\": {\"B\": 1.85592, \"M\": 1.13194, \"C\": 1.72716, \"S\": 0.0407, \"T\": 4.75572}, \"epoch\": 0, \"iter\": 932, \"lr\": 0.001, \"elapsed\": 0.356581449508667}, \"time\": 1700349475.8054795}\n",
      " is on line: 25811\n",
      "\n",
      " is on line: 26019\n",
      "\n",
      " is on line: 26273\n",
      "4}\n",
      " is on line: 26370\n",
      "\n",
      " is on line: 26463\n",
      "}\n",
      " is on line: 26493\n",
      "5}\n",
      " is on line: 26632\n",
      "}\n",
      " is on line: 26676\n",
      "\n",
      " is on line: 26943\n",
      "}\n",
      " is on line: 27335\n",
      "\n",
      " is on line: 27379\n",
      "}\n",
      " is on line: 27611\n",
      "\n",
      " is on line: 27621\n",
      "195}\n",
      " is on line: 27899\n",
      "\n",
      " is on line: 27986\n",
      "}\n",
      " is on line: 28294\n",
      "\n",
      " is on line: 28320\n",
      "4}\n",
      " is on line: 28464\n",
      "\n",
      " is on line: 28683\n",
      "\n",
      " is on line: 29192\n",
      "\n",
      " is on line: 29290\n",
      "\n",
      " is on line: 29318\n",
      "\n",
      " is on line: 29798\n",
      "}\n",
      " is on line: 29857\n",
      "}\n",
      " is on line: 30348\n",
      "\n",
      " is on line: 30491\n",
      "}\n",
      " is on line: 30567\n",
      "46}\n",
      " is on line: 30732\n",
      "\n",
      " is on line: 30837\n",
      "\n",
      " is on line: 30949\n",
      "\n",
      " is on line: 31221\n",
      "\n",
      " is on line: 31447\n",
      "}\n",
      " is on line: 31778\n",
      "}\n",
      " is on line: 31824\n",
      "\n",
      " is on line: 32395\n",
      "}\n",
      " is on line: 32450\n",
      "\n",
      " is on line: 32689\n",
      "}\n",
      " is on line: 32825\n",
      "\n",
      " is on line: 32841\n",
      "\n",
      " is on line: 32858\n",
      "933}\n",
      " is on line: 32914\n",
      "\n",
      " is on line: 33027\n",
      "}\n",
      " is on line: 33069\n",
      "\n",
      " is on line: 33105\n",
      "5}\n",
      " is on line: 33339\n",
      "\n",
      " is on line: 33587\n",
      "}\n",
      " is on line: 33949\n",
      "\n",
      " is on line: 34012\n",
      "\n",
      " is on line: 34056\n",
      "\n",
      " is on line: 34248\n",
      "\n",
      " is on line: 34318\n",
      "\n",
      " is on line: 34338\n",
      "}\n",
      " is on line: 34369\n",
      "\n",
      " is on line: 34409\n",
      "}\n",
      " is on line: 34774\n",
      "}\n",
      " is on line: 34860\n",
      "5}\n",
      " is on line: 34952\n",
      "\n",
      " is on line: 35156\n",
      "\n",
      " is on line: 35237\n",
      "\n",
      " is on line: 35273\n",
      "\n",
      " is on line: 35718\n",
      "\n",
      " is on line: 36043\n",
      "}\n",
      " is on line: 36518\n",
      "\n",
      " is on line: 36625\n",
      "}\n",
      " is on line: 36889\n",
      "\n",
      " is on line: 37096\n",
      "8}\n",
      " is on line: 37275\n",
      "\n",
      " is on line: 37353\n",
      "}\n",
      " is on line: 37486\n",
      "4}\n",
      " is on line: 37496\n",
      "}\n",
      " is on line: 37736\n"
     ]
    }
   ],
   "source": [
    "temp_log_dicts=[]\n",
    "for i,line in enumerate(lines):\n",
    "    try:\n",
    "        curr_dict = json.loads(line)\n",
    "        temp_log_dicts.append(curr_dict)\n",
    "    except:\n",
    "        print(line + ' is on line: ' + str(i))"
   ]
  },
  {
   "cell_type": "code",
   "execution_count": 22,
   "metadata": {},
   "outputs": [
    {
     "name": "stdout",
     "output_type": "stream",
     "text": [
      "39156\n"
     ]
    }
   ],
   "source": [
    "#check that log lines are inside\n",
    "print(len(temp_log_dicts))"
   ]
  },
  {
   "cell_type": "code",
   "execution_count": 24,
   "metadata": {},
   "outputs": [],
   "source": [
    "#create pandas dataframes from log file\n",
    "session = 32\n",
    "log_dicts = []\n",
    "for i,log_dict in enumerate(temp_log_dicts):\n",
    "    if log_dict['session'] == session:\n",
    "        log_dicts.append(log_dict)\n"
   ]
  },
  {
   "cell_type": "code",
   "execution_count": 28,
   "metadata": {},
   "outputs": [
    {
     "name": "stdout",
     "output_type": "stream",
     "text": [
      "5809\n",
      "{'type': 'train', 'session': 32, 'data': {'loss': {'B': 5.80536, 'M': 6.89333, 'C': 12.86959, 'S': 2.11205, 'T': 27.68033}, 'epoch': 0, 'iter': 0, 'lr': 0.0001, 'elapsed': 13.049551248550415}, 'time': 1700348998.2941327}\n"
     ]
    }
   ],
   "source": [
    "print(len(log_dicts))\n",
    "print(log_dicts[1])"
   ]
  },
  {
   "cell_type": "code",
   "execution_count": 37,
   "metadata": {},
   "outputs": [
    {
     "name": "stdout",
     "output_type": "stream",
     "text": [
      "      epoch  iter  total_loss  bbox_loss  mask_loss\n",
      "0         0     0    27.68033    5.80536    6.89333\n",
      "1         0     1    26.64136    7.03973    5.45904\n",
      "2         0     2    20.06063    4.94819    5.04523\n",
      "3         0     3    19.09719    5.69435    4.46758\n",
      "4         0     4    18.55231    5.46264    4.18335\n",
      "...     ...   ...         ...        ...        ...\n",
      "5803      0  5902     3.15817    1.25748    0.66430\n",
      "5804      0  5903     1.93387    0.49332    0.73464\n",
      "5805      0  5904     2.46166    0.64167    1.14403\n",
      "5806      0  5905     1.74567    0.61421    0.67141\n",
      "5807      0  5906     1.85624    0.64144    0.82951\n",
      "\n",
      "[5808 rows x 5 columns]\n"
     ]
    }
   ],
   "source": [
    "# initialize dataframes and fill them, im sure theres a better way for this but whatever\n",
    "# Loss Key:\n",
    "        #  - B: Box Localization Loss\n",
    "        #  - C: Class Confidence Loss\n",
    "        #  - M: Mask Loss\n",
    "        #  - P: Prototype Loss\n",
    "        #  - D: Coefficient Diversity Loss\n",
    "        #  - E: Class Existence Loss\n",
    "        #  - S: Semantic Segmentation Loss\n",
    "train_dict = {}\n",
    "train_dict['epoch'] = []\n",
    "train_dict['iter'] = []\n",
    "train_dict['total_loss'] = []\n",
    "train_dict['bbox_loss'] = []\n",
    "train_dict['mask_loss'] = [] \n",
    "val_dict = {}\n",
    "val_dict['epoch'] = []\n",
    "val_dict['iter'] = []\n",
    "val_dict['total_loss'] = []\n",
    "val_dict['bbox_loss'] = []\n",
    "val_dict['mask_loss'] = []\n",
    "\n",
    "for log_dict in log_dicts:\n",
    "    if log_dict['type'] in [\"train\"]:\n",
    "        train_dict['epoch'].append(log_dict['data']['epoch'])\n",
    "        train_dict['iter'].append(log_dict['data']['iter'])\n",
    "        train_dict['total_loss'].append(log_dict['data']['loss']['T'])\n",
    "        train_dict['bbox_loss'].append(log_dict['data']['loss']['B'])\n",
    "        train_dict['mask_loss'].append(log_dict['data']['loss']['M'])\n",
    "    elif log_dict['type'] in ['val']:\n",
    "        val_dict['epoch'].append(log_dict['data']['epoch'])\n",
    "        val_dict['iter'].append(log_dict['data']['iter'])\n",
    "        val_dict['total_loss'].append(log_dict['data']['loss']['T'])\n",
    "        val_dict['bbox_loss'].append(log_dict['data']['loss']['B'])\n",
    "        val_dict['mask_loss'].append(log_dict['data']['loss']['M'])\n",
    "\n",
    "train_pd = pd.DataFrame.from_dict(train_dict)\n",
    "val_pd = pd.DataFrame.from_dict(val_dict)\n",
    "print(train_pd)"
   ]
  },
  {
   "cell_type": "code",
   "execution_count": 43,
   "metadata": {},
   "outputs": [
    {
     "name": "stdout",
     "output_type": "stream",
     "text": [
      "Empty DataFrame\n",
      "Columns: [epoch, iter, total_loss, bbox_loss, mask_loss]\n",
      "Index: []\n"
     ]
    }
   ],
   "source": [
    "print(val_pd)"
   ]
  },
  {
   "cell_type": "code",
   "execution_count": 39,
   "metadata": {},
   "outputs": [
    {
     "name": "stdout",
     "output_type": "stream",
     "text": [
      "5808\n",
      "5808\n"
     ]
    }
   ],
   "source": [
    "loss_array = train_pd['total_loss'].to_numpy()\n",
    "iterations_array = train_pd['iter'].to_numpy()\n",
    "print(len(loss_array))\n",
    "print(len(iterations_array))"
   ]
  },
  {
   "cell_type": "code",
   "execution_count": 42,
   "metadata": {},
   "outputs": [
    {
     "data": {
      "image/png": "[encoded data removed]",
      "text/plain": [
       "<Figure size 640x480 with 1 Axes>"
      ]
     },
     "metadata": {},
     "output_type": "display_data"
    }
   ],
   "source": [
    "fig, ax = plt.subplots()\n",
    "ax.plot(iterations_array, loss_array, linewidth=0.2)\n",
    "plt.show()"
   ]
  }
 ],
 "metadata": {
  "kernelspec": {
   "display_name": "Python 3",
   "language": "python",
   "name": "python3"
  },
  "language_info": {
   "codemirror_mode": {
    "name": "ipython",
    "version": 3
   },
   "file_extension": ".py",
   "mimetype": "text/x-python",
   "name": "python",
   "nbconvert_exporter": "python",
   "pygments_lexer": "ipython3",
   "version": "3.10.7"
  }
 },
 "nbformat": 4,
 "nbformat_minor": 2
}
